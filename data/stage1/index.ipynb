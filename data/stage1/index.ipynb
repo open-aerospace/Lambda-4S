{
 "cells": [
  {
   "cell_type": "raw",
   "metadata": {},
   "source": [
    "---\n",
    "layout: project-subpage\n",
    "title: Interpolated First Stage Thrust Curves\n",
    "description: \"Digitized Lambda-4S data, interpolated first stage thrust curves\"\n",
    "page: data\n",
    "subpage: stage1\n",
    "---"
   ]
  },
  {
   "cell_type": "markdown",
   "metadata": {},
   "source": [
    "# First Stage Thrust Curves\n",
    "\n",
    "The reference I can find with thrust curves for the Lambda vehicle has a total thrust curve for the entire first stage, the main motor and both boosters combined. We would like to know what the indavidual thrusts are.\n",
    "\n",
    "We can probably make a pretty good guess using the thrust of the first stage motor by itself and then subtracting from the total.\n",
    "\n",
    "## First Stage Total Thrust"
   ]
  },
  {
   "cell_type": "code",
   "execution_count": null,
   "metadata": {
    "collapsed": false
   },
   "outputs": [],
   "source": [
    "# dependencies\n",
    "from numpy import loadtxt, interp, copy\n",
    "import matplotlib.pyplot as plt\n",
    "%matplotlib inline\n",
    "\n",
    "g_0 = 9.80665\n",
    "\n",
    "LB2KG = 0.453592\n",
    "IN2M = 0.0254\n",
    "SF2KGM = 1.35581795\n",
    "\n",
    "total_thrust_time, total_thrust = loadtxt('../thrust_booster_and_stage1.csv', delimiter=',', unpack=True)\n",
    "stage1_thrust_time, stage1_thrust = loadtxt('../735-33-thrustcurve.csv', delimiter=',', unpack=True)"
   ]
  },
  {
   "cell_type": "code",
   "execution_count": null,
   "metadata": {
    "collapsed": false
   },
   "outputs": [],
   "source": [
    "fig, ax1 = plt.subplots(figsize=(18,8))\n",
    "plt.title(r\"L-4S-2 First Stage Total Thrust\")\n",
    "plt.ylabel(r\"Thrust [kN]\")\n",
    "plt.xlabel(r\"Launch Elapsed Time [s]\")\n",
    "\n",
    "plt.plot(total_thrust_time, (total_thrust*g_0)/1000.0, alpha=0.7, label=\"L-4S-2 Vehicle Data\")\n",
    "\n",
    "#plt.ylim([0,5])\n",
    "plt.xlim([0,30])\n",
    "#ax1.legend(loc=1)\n",
    "plt.show()"
   ]
  },
  {
   "cell_type": "markdown",
   "metadata": {},
   "source": [
    "We can see the booster thrust die down after about 7 seconds.\n",
    "\n",
    "An earlier reference shows a thrust curve from the first stage motor by itself:"
   ]
  },
  {
   "cell_type": "code",
   "execution_count": null,
   "metadata": {
    "collapsed": false
   },
   "outputs": [],
   "source": [
    "fig, ax1 = plt.subplots(figsize=(18,8))\n",
    "plt.title(r\"L-4S First Stage Thrust\")\n",
    "plt.ylabel(r\"Thrust [kN]\")\n",
    "plt.xlabel(r\"Launch Elapsed Time [s]\")\n",
    "\n",
    "plt.plot(total_thrust_time, (total_thrust*g_0)/1000.0, alpha=0.7, label=\"L-4S-2 Vehicle Total First Stage Thrust\")\n",
    "plt.plot(stage1_thrust_time, stage1_thrust/1000.0, alpha=0.7, label=\"735 Motor Thrust\")\n",
    "\n",
    "#plt.ylim([0,5])\n",
    "plt.xlim([0,30])\n",
    "ax1.legend(loc=1)\n",
    "plt.show()"
   ]
  },
  {
   "cell_type": "markdown",
   "metadata": {},
   "source": [
    "And then subtract that curve to get just the booster thrust by itself. There are two boosters, so dividing by two will give the thrust of just one by itself."
   ]
  },
  {
   "cell_type": "code",
   "execution_count": null,
   "metadata": {
    "collapsed": false
   },
   "outputs": [],
   "source": [
    "# first 8.0 seconds of time\n",
    "stage1_boost_time = stage1_thrust_time[:80]\n",
    "\n",
    "# interpolate to get same time base\n",
    "stage1_boost_thrust = interp(stage1_boost_time, total_thrust_time, total_thrust*g_0)\n",
    "\n",
    "# subtract the first stage thrust\n",
    "stage1_boost_thrust = stage1_boost_thrust - stage1_thrust[:80]\n",
    "\n",
    "# divide by 2 (two boosters)\n",
    "stage1_boost_thrust = stage1_boost_thrust/2.0\n",
    "\n",
    "# scale down so that the last point === 0\n",
    "stage1_boost_thrust = stage1_boost_thrust - stage1_boost_thrust[-1]\n",
    "\n",
    "# fix blip at beginning\n",
    "stage1_boost_thrust[0] = stage1_boost_thrust[2]\n",
    "stage1_boost_thrust[1] = stage1_boost_thrust[2]\n",
    "\n",
    "\n",
    "fig, ax1 = plt.subplots(figsize=(6,8))\n",
    "plt.title(r\"L-4S First Stage Single Booster Thrust\")\n",
    "plt.ylabel(r\"Thrust [kN]\")\n",
    "plt.xlabel(r\"Launch Elapsed Time [s]\")\n",
    "\n",
    "plt.plot(stage1_boost_time, stage1_boost_thrust/1000.0, alpha=0.7, label=\"First Stage Booster\")\n",
    "\n",
    "#plt.ylim([0,200])\n",
    "plt.xlim([0,8.7])\n",
    "#ax1.legend(loc=1)\n",
    "plt.show()"
   ]
  },
  {
   "cell_type": "markdown",
   "metadata": {},
   "source": [
    "## Reconstructed Thrust Curve\n",
    "\n",
    "If we put it all back together, it should exactly match our original thrustcurve"
   ]
  },
  {
   "cell_type": "code",
   "execution_count": null,
   "metadata": {
    "collapsed": false
   },
   "outputs": [],
   "source": [
    "comp_thrust = copy(stage1_thrust)\n",
    "comp_thrust[:80] = stage1_thrust[:80] + stage1_boost_thrust * 2\n",
    "\n",
    "fig, ax1 = plt.subplots(figsize=(18,8))\n",
    "plt.title(r\"L-4S-2 First Composite Thrust\")\n",
    "plt.ylabel(r\"Thrust [kN]\")\n",
    "plt.xlabel(r\"Launch Elapsed Time [s]\")\n",
    "\n",
    "plt.plot(total_thrust_time, (total_thrust*g_0)/1000.0, 'k-', lw=3.0, alpha=0.5, label=\"L-4S-2 Vehicle Data\")\n",
    "plt.plot(stage1_thrust_time, comp_thrust/1000.0, alpha=1.0, label=\"Composite First Stage Thrust (Total reconstructed thrust curve)\")\n",
    "plt.plot(stage1_thrust_time, stage1_thrust/1000.0, 'b--', lw=1.0, label=\"First Stage Main Motor\")\n",
    "plt.plot(stage1_boost_time, stage1_boost_thrust/1000.0, 'g--', lw=1.0, label=\"First Stage Booster Motor\")\n",
    "\n",
    "#plt.ylim([0,200])\n",
    "#plt.xlim([0,8.7])\n",
    "ax1.legend(loc=1)\n",
    "plt.show()"
   ]
  },
  {
   "cell_type": "code",
   "execution_count": null,
   "metadata": {
    "collapsed": false
   },
   "outputs": [],
   "source": [
    "# write to file\n",
    "with open(\"stage1_boost_thrust.csv\", 'w') as out:\n",
    "    for i, t in enumerate(stage1_boost_thrust):\n",
    "        out.write(\"%0.3f, %0.1f\\n\" % (stage1_boost_time[i], t))"
   ]
  },
  {
   "cell_type": "markdown",
   "metadata": {},
   "source": [
    "We can now use the booster data to create useful thrust curves for simulation.\n",
    "\n",
    " - [stage1_boost_thrust.csv](stage1_boost_thrust.csv)\n",
    "\n",
    "Format:\n",
    "\n",
    " Column |                                Value | Units\n",
    " :----: | -----------------------------------: | :-----\n",
    "  1     | Time                                 | s\n",
    "  2     | Thrust                               | N\n"
   ]
  },
  {
   "cell_type": "raw",
   "metadata": {},
   "source": []
  }
 ],
 "metadata": {
  "kernelspec": {
   "display_name": "Python 3",
   "language": "python",
   "name": "python3"
  },
  "language_info": {
   "codemirror_mode": {
    "name": "ipython",
    "version": 3
   },
   "file_extension": ".py",
   "mimetype": "text/x-python",
   "name": "python",
   "nbconvert_exporter": "python",
   "pygments_lexer": "ipython3",
   "version": "3.5.1+"
  }
 },
 "nbformat": 4,
 "nbformat_minor": 0
}
